{
 "cells": [
  {
   "cell_type": "code",
   "execution_count": 1,
   "metadata": {},
   "outputs": [],
   "source": [
    "import os\n",
    "import json\n",
    "import pandas as pd\n",
    "import numpy as np"
   ]
  },
  {
   "cell_type": "code",
   "execution_count": null,
   "metadata": {},
   "outputs": [
    {
     "ename": "",
     "evalue": "",
     "output_type": "error",
     "traceback": [
      "\u001b[1;31mImpossibile avviare il kernel poiché è impossibile importare il modulo 'TypeAliasType' da '/Users/enricozhou/.pyenv/versions/3.11.12/lib/python3.11/site-packages/typing_extensions.py'.\n",
      "\u001b[1;31mFare clic <a href='https://aka.ms/kernelFailuresModuleImportErrFromFile'>qui</a> per ulteriori informazioni."
     ]
    }
   ],
   "source": [
    "datafile = os.path.join('/Users/enricozhou/Desktop/abc/dat/reddit/2018')\n",
    "datafile = os.path.join('../../../dat/reddit/2018')\n",
    "\n",
    "with open(datafile, 'r') as f:\n",
    "    record_dicts = []\n",
    "    for line in f.readlines():\n",
    "        record = json.loads(line)\n",
    "        reply_list = record['reply']\n",
    "        earliest_reply_text = None\n",
    "        for reply_dict in sorted(reply_list, key=lambda x: x['created_utc']):\n",
    "            if reply_dict['body'] != '[deleted]':\n",
    "                earliest_reply_text = reply_dict['body']\n",
    "            if earliest_reply_text:\n",
    "                break\n",
    "        if earliest_reply_text:\n",
    "            record.pop('reply')\n",
    "            record['reply_text'] = earliest_reply_text\n",
    "            record_dicts.append(record)"
   ]
  },
  {
   "cell_type": "code",
   "execution_count": null,
   "metadata": {},
   "outputs": [
    {
     "ename": "",
     "evalue": "",
     "output_type": "error",
     "traceback": [
      "\u001b[1;31mImpossibile avviare il kernel poiché è impossibile importare il modulo 'TypeAliasType' da '/Users/enricozhou/.pyenv/versions/3.11.12/lib/python3.11/site-packages/typing_extensions.py'.\n",
      "\u001b[1;31mFare clic <a href='https://aka.ms/kernelFailuresModuleImportErrFromFile'>qui</a> per ulteriori informazioni."
     ]
    }
   ],
   "source": [
    "reddit_df = pd.DataFrame(record_dicts)\n",
    "reddit_df = reddit_df[reddit_df.body != '[deleted]']\n",
    "reddit_df = reddit_df.astype({'score':np.int64, 'controversiality':np.int64, 'gilded':np.int64, 'created_utc':np.int64})"
   ]
  },
  {
   "cell_type": "code",
   "execution_count": 12,
   "metadata": {},
   "outputs": [
    {
     "data": {
      "text/html": [
       "<div>\n",
       "<style scoped>\n",
       "    .dataframe tbody tr th:only-of-type {\n",
       "        vertical-align: middle;\n",
       "    }\n",
       "\n",
       "    .dataframe tbody tr th {\n",
       "        vertical-align: top;\n",
       "    }\n",
       "\n",
       "    .dataframe thead th {\n",
       "        text-align: right;\n",
       "    }\n",
       "</style>\n",
       "<table border=\"1\" class=\"dataframe\">\n",
       "  <thead>\n",
       "    <tr style=\"text-align: right;\">\n",
       "      <th></th>\n",
       "      <th>gender</th>\n",
       "      <th>body</th>\n",
       "      <th>author</th>\n",
       "      <th>author_flair_text</th>\n",
       "      <th>created_utc</th>\n",
       "      <th>link_id</th>\n",
       "      <th>score</th>\n",
       "      <th>controversiality</th>\n",
       "      <th>gilded</th>\n",
       "      <th>id</th>\n",
       "      <th>subreddit</th>\n",
       "      <th>author_flair_css_class</th>\n",
       "      <th>parent_id</th>\n",
       "      <th>reply_text</th>\n",
       "    </tr>\n",
       "  </thead>\n",
       "  <tbody>\n",
       "    <tr>\n",
       "      <th>0</th>\n",
       "      <td>female</td>\n",
       "      <td>if this isn’t accurate then idk what is</td>\n",
       "      <td>be-concerned</td>\n",
       "      <td>15F</td>\n",
       "      <td>1542407736</td>\n",
       "      <td>t3_9xpaoc</td>\n",
       "      <td>60</td>\n",
       "      <td>0</td>\n",
       "      <td>0</td>\n",
       "      <td>e9ufsur</td>\n",
       "      <td>infj</td>\n",
       "      <td>sun</td>\n",
       "      <td>e9ufsur</td>\n",
       "      <td>Yeah, this is definitely me. Then again, I cou...</td>\n",
       "    </tr>\n",
       "    <tr>\n",
       "      <th>1</th>\n",
       "      <td>female</td>\n",
       "      <td>i’m in highschool right now. two years ago, my...</td>\n",
       "      <td>be-concerned</td>\n",
       "      <td>15F</td>\n",
       "      <td>1545673571</td>\n",
       "      <td>t3_a940fq</td>\n",
       "      <td>5</td>\n",
       "      <td>0</td>\n",
       "      <td>0</td>\n",
       "      <td>ecgumma</td>\n",
       "      <td>infj</td>\n",
       "      <td>sun</td>\n",
       "      <td>ecgumma</td>\n",
       "      <td>Identify a common interest you have and maybe ...</td>\n",
       "    </tr>\n",
       "    <tr>\n",
       "      <th>2</th>\n",
       "      <td>female</td>\n",
       "      <td>[It’s me.](https://imgur.com/a/WDavpAM)</td>\n",
       "      <td>INFJen</td>\n",
       "      <td>27F</td>\n",
       "      <td>1525914365</td>\n",
       "      <td>t3_8hz688</td>\n",
       "      <td>3</td>\n",
       "      <td>0</td>\n",
       "      <td>0</td>\n",
       "      <td>dyqcclj</td>\n",
       "      <td>infj</td>\n",
       "      <td>clover</td>\n",
       "      <td>dyqcclj</td>\n",
       "      <td>Aphrodite? Is that you?</td>\n",
       "    </tr>\n",
       "    <tr>\n",
       "      <th>3</th>\n",
       "      <td>female</td>\n",
       "      <td>u/User_Simulator u/INFJen</td>\n",
       "      <td>INFJen</td>\n",
       "      <td>27F</td>\n",
       "      <td>1528055310</td>\n",
       "      <td>t3_8o8shk</td>\n",
       "      <td>2</td>\n",
       "      <td>0</td>\n",
       "      <td>0</td>\n",
       "      <td>e01ztf1</td>\n",
       "      <td>infj</td>\n",
       "      <td>clover</td>\n",
       "      <td>e01ztf1</td>\n",
       "      <td>+/u/User_Simulator /u/INFJen</td>\n",
       "    </tr>\n",
       "    <tr>\n",
       "      <th>4</th>\n",
       "      <td>female</td>\n",
       "      <td>It's okay, you too are unique. I'm unique, you...</td>\n",
       "      <td>INFJen</td>\n",
       "      <td>27F</td>\n",
       "      <td>1522538912</td>\n",
       "      <td>t3_88m25u</td>\n",
       "      <td>8</td>\n",
       "      <td>0</td>\n",
       "      <td>0</td>\n",
       "      <td>dwlp1jv</td>\n",
       "      <td>infj</td>\n",
       "      <td>clover</td>\n",
       "      <td>dwlp1jv</td>\n",
       "      <td>[Are we?](https://www.wikihow.com/Stop-Taking-...</td>\n",
       "    </tr>\n",
       "  </tbody>\n",
       "</table>\n",
       "</div>"
      ],
      "text/plain": [
       "   gender                                               body        author   \n",
       "0  female            if this isn’t accurate then idk what is  be-concerned  \\\n",
       "1  female  i’m in highschool right now. two years ago, my...  be-concerned   \n",
       "2  female           [It’s me.](https://imgur.com/a/WDavpAM)         INFJen   \n",
       "3  female                          u/User_Simulator u/INFJen        INFJen   \n",
       "4  female  It's okay, you too are unique. I'm unique, you...        INFJen   \n",
       "\n",
       "  author_flair_text  created_utc    link_id  score  controversiality  gilded   \n",
       "0               15F   1542407736  t3_9xpaoc     60                 0       0  \\\n",
       "1               15F   1545673571  t3_a940fq      5                 0       0   \n",
       "2               27F   1525914365  t3_8hz688      3                 0       0   \n",
       "3               27F   1528055310  t3_8o8shk      2                 0       0   \n",
       "4               27F   1522538912  t3_88m25u      8                 0       0   \n",
       "\n",
       "        id subreddit author_flair_css_class parent_id   \n",
       "0  e9ufsur      infj                    sun   e9ufsur  \\\n",
       "1  ecgumma      infj                    sun   ecgumma   \n",
       "2  dyqcclj      infj                 clover   dyqcclj   \n",
       "3  e01ztf1      infj                 clover   e01ztf1   \n",
       "4  dwlp1jv      infj                 clover   dwlp1jv   \n",
       "\n",
       "                                          reply_text  \n",
       "0  Yeah, this is definitely me. Then again, I cou...  \n",
       "1  Identify a common interest you have and maybe ...  \n",
       "2                            Aphrodite? Is that you?  \n",
       "3                       +/u/User_Simulator /u/INFJen  \n",
       "4  [Are we?](https://www.wikihow.com/Stop-Taking-...  "
      ]
     },
     "execution_count": 12,
     "metadata": {},
     "output_type": "execute_result"
    }
   ],
   "source": [
    "reddit_df.head()"
   ]
  },
  {
   "cell_type": "code",
   "execution_count": 13,
   "metadata": {},
   "outputs": [],
   "source": [
    "gold = reddit_df[reddit_df.gilded>0]\n",
    "contro = reddit_df[reddit_df.controversiality>0]"
   ]
  },
  {
   "cell_type": "code",
   "execution_count": 14,
   "metadata": {},
   "outputs": [],
   "source": [
    "reddit_df['sub_id'] = pd.Categorical(reddit_df['subreddit']).codes\n",
    "data = reddit_df[['body', 'score', 'sub_id']]\n",
    "data = data.astype({'score':np.int64})\n",
    "text = data['body'].values\n",
    "labels = data['score'].values"
   ]
  },
  {
   "cell_type": "code",
   "execution_count": 15,
   "metadata": {},
   "outputs": [
    {
     "data": {
      "text/html": [
       "<div>\n",
       "<style scoped>\n",
       "    .dataframe tbody tr th:only-of-type {\n",
       "        vertical-align: middle;\n",
       "    }\n",
       "\n",
       "    .dataframe tbody tr th {\n",
       "        vertical-align: top;\n",
       "    }\n",
       "\n",
       "    .dataframe thead th {\n",
       "        text-align: right;\n",
       "    }\n",
       "</style>\n",
       "<table border=\"1\" class=\"dataframe\">\n",
       "  <thead>\n",
       "    <tr style=\"text-align: right;\">\n",
       "      <th></th>\n",
       "      <th>body</th>\n",
       "      <th>score</th>\n",
       "      <th>sub_id</th>\n",
       "    </tr>\n",
       "  </thead>\n",
       "  <tbody>\n",
       "    <tr>\n",
       "      <th>0</th>\n",
       "      <td>if this isn’t accurate then idk what is</td>\n",
       "      <td>60</td>\n",
       "      <td>12</td>\n",
       "    </tr>\n",
       "    <tr>\n",
       "      <th>1</th>\n",
       "      <td>i’m in highschool right now. two years ago, my...</td>\n",
       "      <td>5</td>\n",
       "      <td>12</td>\n",
       "    </tr>\n",
       "    <tr>\n",
       "      <th>2</th>\n",
       "      <td>[It’s me.](https://imgur.com/a/WDavpAM)</td>\n",
       "      <td>3</td>\n",
       "      <td>12</td>\n",
       "    </tr>\n",
       "    <tr>\n",
       "      <th>3</th>\n",
       "      <td>u/User_Simulator u/INFJen</td>\n",
       "      <td>2</td>\n",
       "      <td>12</td>\n",
       "    </tr>\n",
       "    <tr>\n",
       "      <th>4</th>\n",
       "      <td>It's okay, you too are unique. I'm unique, you...</td>\n",
       "      <td>8</td>\n",
       "      <td>12</td>\n",
       "    </tr>\n",
       "  </tbody>\n",
       "</table>\n",
       "</div>"
      ],
      "text/plain": [
       "                                                body  score  sub_id\n",
       "0            if this isn’t accurate then idk what is     60      12\n",
       "1  i’m in highschool right now. two years ago, my...      5      12\n",
       "2           [It’s me.](https://imgur.com/a/WDavpAM)       3      12\n",
       "3                          u/User_Simulator u/INFJen      2      12\n",
       "4  It's okay, you too are unique. I'm unique, you...      8      12"
      ]
     },
     "execution_count": 15,
     "metadata": {},
     "output_type": "execute_result"
    }
   ],
   "source": [
    "data.head()"
   ]
  },
  {
   "cell_type": "code",
   "execution_count": 16,
   "metadata": {},
   "outputs": [
    {
     "data": {
      "text/html": [
       "<div>\n",
       "<style scoped>\n",
       "    .dataframe tbody tr th:only-of-type {\n",
       "        vertical-align: middle;\n",
       "    }\n",
       "\n",
       "    .dataframe tbody tr th {\n",
       "        vertical-align: top;\n",
       "    }\n",
       "\n",
       "    .dataframe thead th {\n",
       "        text-align: right;\n",
       "    }\n",
       "</style>\n",
       "<table border=\"1\" class=\"dataframe\">\n",
       "  <thead>\n",
       "    <tr style=\"text-align: right;\">\n",
       "      <th></th>\n",
       "      <th>gender</th>\n",
       "      <th>body</th>\n",
       "      <th>author</th>\n",
       "      <th>author_flair_text</th>\n",
       "      <th>created_utc</th>\n",
       "      <th>link_id</th>\n",
       "      <th>score</th>\n",
       "      <th>controversiality</th>\n",
       "      <th>gilded</th>\n",
       "      <th>id</th>\n",
       "      <th>subreddit</th>\n",
       "      <th>author_flair_css_class</th>\n",
       "      <th>parent_id</th>\n",
       "      <th>reply_text</th>\n",
       "      <th>sub_id</th>\n",
       "    </tr>\n",
       "  </thead>\n",
       "  <tbody>\n",
       "    <tr>\n",
       "      <th>0</th>\n",
       "      <td>female</td>\n",
       "      <td>if this isn’t accurate then idk what is</td>\n",
       "      <td>be-concerned</td>\n",
       "      <td>15F</td>\n",
       "      <td>1542407736</td>\n",
       "      <td>t3_9xpaoc</td>\n",
       "      <td>60</td>\n",
       "      <td>0</td>\n",
       "      <td>0</td>\n",
       "      <td>e9ufsur</td>\n",
       "      <td>infj</td>\n",
       "      <td>sun</td>\n",
       "      <td>e9ufsur</td>\n",
       "      <td>Yeah, this is definitely me. Then again, I cou...</td>\n",
       "      <td>12</td>\n",
       "    </tr>\n",
       "    <tr>\n",
       "      <th>1</th>\n",
       "      <td>female</td>\n",
       "      <td>i’m in highschool right now. two years ago, my...</td>\n",
       "      <td>be-concerned</td>\n",
       "      <td>15F</td>\n",
       "      <td>1545673571</td>\n",
       "      <td>t3_a940fq</td>\n",
       "      <td>5</td>\n",
       "      <td>0</td>\n",
       "      <td>0</td>\n",
       "      <td>ecgumma</td>\n",
       "      <td>infj</td>\n",
       "      <td>sun</td>\n",
       "      <td>ecgumma</td>\n",
       "      <td>Identify a common interest you have and maybe ...</td>\n",
       "      <td>12</td>\n",
       "    </tr>\n",
       "    <tr>\n",
       "      <th>2</th>\n",
       "      <td>female</td>\n",
       "      <td>[It’s me.](https://imgur.com/a/WDavpAM)</td>\n",
       "      <td>INFJen</td>\n",
       "      <td>27F</td>\n",
       "      <td>1525914365</td>\n",
       "      <td>t3_8hz688</td>\n",
       "      <td>3</td>\n",
       "      <td>0</td>\n",
       "      <td>0</td>\n",
       "      <td>dyqcclj</td>\n",
       "      <td>infj</td>\n",
       "      <td>clover</td>\n",
       "      <td>dyqcclj</td>\n",
       "      <td>Aphrodite? Is that you?</td>\n",
       "      <td>12</td>\n",
       "    </tr>\n",
       "    <tr>\n",
       "      <th>3</th>\n",
       "      <td>female</td>\n",
       "      <td>u/User_Simulator u/INFJen</td>\n",
       "      <td>INFJen</td>\n",
       "      <td>27F</td>\n",
       "      <td>1528055310</td>\n",
       "      <td>t3_8o8shk</td>\n",
       "      <td>2</td>\n",
       "      <td>0</td>\n",
       "      <td>0</td>\n",
       "      <td>e01ztf1</td>\n",
       "      <td>infj</td>\n",
       "      <td>clover</td>\n",
       "      <td>e01ztf1</td>\n",
       "      <td>+/u/User_Simulator /u/INFJen</td>\n",
       "      <td>12</td>\n",
       "    </tr>\n",
       "    <tr>\n",
       "      <th>4</th>\n",
       "      <td>female</td>\n",
       "      <td>It's okay, you too are unique. I'm unique, you...</td>\n",
       "      <td>INFJen</td>\n",
       "      <td>27F</td>\n",
       "      <td>1522538912</td>\n",
       "      <td>t3_88m25u</td>\n",
       "      <td>8</td>\n",
       "      <td>0</td>\n",
       "      <td>0</td>\n",
       "      <td>dwlp1jv</td>\n",
       "      <td>infj</td>\n",
       "      <td>clover</td>\n",
       "      <td>dwlp1jv</td>\n",
       "      <td>[Are we?](https://www.wikihow.com/Stop-Taking-...</td>\n",
       "      <td>12</td>\n",
       "    </tr>\n",
       "  </tbody>\n",
       "</table>\n",
       "</div>"
      ],
      "text/plain": [
       "   gender                                               body        author   \n",
       "0  female            if this isn’t accurate then idk what is  be-concerned  \\\n",
       "1  female  i’m in highschool right now. two years ago, my...  be-concerned   \n",
       "2  female           [It’s me.](https://imgur.com/a/WDavpAM)         INFJen   \n",
       "3  female                          u/User_Simulator u/INFJen        INFJen   \n",
       "4  female  It's okay, you too are unique. I'm unique, you...        INFJen   \n",
       "\n",
       "  author_flair_text  created_utc    link_id  score  controversiality  gilded   \n",
       "0               15F   1542407736  t3_9xpaoc     60                 0       0  \\\n",
       "1               15F   1545673571  t3_a940fq      5                 0       0   \n",
       "2               27F   1525914365  t3_8hz688      3                 0       0   \n",
       "3               27F   1528055310  t3_8o8shk      2                 0       0   \n",
       "4               27F   1522538912  t3_88m25u      8                 0       0   \n",
       "\n",
       "        id subreddit author_flair_css_class parent_id   \n",
       "0  e9ufsur      infj                    sun   e9ufsur  \\\n",
       "1  ecgumma      infj                    sun   ecgumma   \n",
       "2  dyqcclj      infj                 clover   dyqcclj   \n",
       "3  e01ztf1      infj                 clover   e01ztf1   \n",
       "4  dwlp1jv      infj                 clover   dwlp1jv   \n",
       "\n",
       "                                          reply_text  sub_id  \n",
       "0  Yeah, this is definitely me. Then again, I cou...      12  \n",
       "1  Identify a common interest you have and maybe ...      12  \n",
       "2                            Aphrodite? Is that you?      12  \n",
       "3                       +/u/User_Simulator /u/INFJen      12  \n",
       "4  [Are we?](https://www.wikihow.com/Stop-Taking-...      12  "
      ]
     },
     "execution_count": 16,
     "metadata": {},
     "output_type": "execute_result"
    }
   ],
   "source": [
    "reddit_df.head()"
   ]
  },
  {
   "cell_type": "code",
   "execution_count": 17,
   "metadata": {},
   "outputs": [
    {
     "data": {
      "text/plain": [
       "0    12\n",
       "1    12\n",
       "2    12\n",
       "3    12\n",
       "4    12\n",
       "Name: sub_id, dtype: int8"
      ]
     },
     "execution_count": 17,
     "metadata": {},
     "output_type": "execute_result"
    }
   ],
   "source": [
    "reddit_df['sub_id'].head()"
   ]
  },
  {
   "cell_type": "code",
   "execution_count": 18,
   "metadata": {},
   "outputs": [
    {
     "name": "stdout",
     "output_type": "stream",
     "text": [
      "NLTK Downloader\n",
      "---------------------------------------------------------------------------\n",
      "    d) Download   l) List    u) Update   c) Config   h) Help   q) Quit\n",
      "---------------------------------------------------------------------------\n"
     ]
    },
    {
     "data": {
      "text/plain": [
       "True"
      ]
     },
     "execution_count": 18,
     "metadata": {},
     "output_type": "execute_result"
    }
   ],
   "source": [
    "import nltk\n",
    "nltk.download()"
   ]
  },
  {
   "cell_type": "code",
   "execution_count": 19,
   "metadata": {},
   "outputs": [
    {
     "data": {
      "text/plain": [
       "(422206, 195)"
      ]
     },
     "execution_count": 19,
     "metadata": {},
     "output_type": "execute_result"
    }
   ],
   "source": [
    "from sklearn.feature_extraction.text import CountVectorizer\n",
    "# from nltk.corpus import stopwords\n",
    "# stoplist = stopwords.words(\"English\")\n",
    "\n",
    "# Creiamo un oggetto CountVectorizer per trasformare il testo in una matrice di conteggi\n",
    "vec = CountVectorizer(\n",
    "    max_df=0.9,         # ignora le parole che compaiono in più del 90% dei documenti (troppo comuni, poco informative)\n",
    "    min_df=0.02,        # ignora le parole che compaiono in meno del 2% dei documenti (troppo rare)\n",
    "    stop_words='english', # rimuove automaticamente le stopwords inglesi (come 'the', 'and', 'is', ecc.)\n",
    "    ngram_range=(1,2)   # considera sia unigrammi (singole parole) che bigrammi (sequenze di 2 parole) esempio: ['I', 'love', 'pizza', 'I love', 'love pizza']\n",
    "\n",
    ")\n",
    "\n",
    "# Trasforma il testo in una matrice di features (documenti x termini)\n",
    "# text dovrebbe essere una lista di documenti (stringhe)\n",
    "# creazione di una Bag of Words (BoW) con i filtri specificati\n",
    "features = vec.fit_transform(text)\n",
    "\n",
    "# Mostra la dimensione della matrice risultante:\n",
    "# - features.shape[0] = numero di documenti\n",
    "# - features.shape[1] = numero di termini selezionati dopo i filtri\n",
    "# righe e colonne\n",
    "features.shape\n"
   ]
  },
  {
   "cell_type": "code",
   "execution_count": 20,
   "metadata": {},
   "outputs": [
    {
     "data": {
      "text/plain": [
       "array([[0, 0, 0, ..., 0, 0, 0],\n",
       "       [0, 0, 0, ..., 1, 0, 0],\n",
       "       [0, 0, 0, ..., 0, 0, 0],\n",
       "       ...,\n",
       "       [0, 0, 0, ..., 0, 0, 0],\n",
       "       [0, 0, 0, ..., 0, 0, 0],\n",
       "       [0, 0, 0, ..., 0, 0, 0]])"
      ]
     },
     "execution_count": 20,
     "metadata": {},
     "output_type": "execute_result"
    }
   ],
   "source": [
    "features.toarray()"
   ]
  },
  {
   "cell_type": "code",
   "execution_count": 21,
   "metadata": {},
   "outputs": [
    {
     "name": "stdout",
     "output_type": "stream",
     "text": [
      "(422206, 195)\n",
      "27349.35425730105\n",
      "[  2   2   1 ...   2   3 124]\n",
      "[25.15380765  4.70403123 23.55221749 ... 29.47121705 15.9732831\n",
      " 25.7932776 ]\n"
     ]
    }
   ],
   "source": [
    "from sklearn.linear_model import LinearRegression, Lasso   # Importiamo i modelli di regressione lineare\n",
    "from sklearn.metrics import mean_squared_error as mse      # Importiamo la funzione per calcolare il Mean Squared Error (MSE)\n",
    "\n",
    "# Creiamo un array con gli indici di tutti i documenti\n",
    "# features.shape[0] = numero di documenti nella matrice bag-of-words\n",
    "docs = np.arange(features.shape[0])  \n",
    "\n",
    "# Mescoliamo casualmente l'ordine dei documenti per evitare bias nell'addestramento\n",
    "np.random.shuffle(docs)\n",
    "\n",
    "# Qui usiamo tutti i documenti mescolati come \"subsample\"\n",
    "# (Potremmo anche scegliere solo una parte es. docs[:500])\n",
    "subsample = docs\n",
    "# subsample = np.random.shuffle(docs)\n",
    "\n",
    "# Riordiniamo le feature e le etichette (labels) in base al nuovo ordine casuale\n",
    "tr_features = features[subsample, :]    # matrice bag-of-words/n-grammi dei documenti mescolati\n",
    "tr_labels = labels[subsample]           # punteggi dei documenti (score) mescolati\n",
    "\n",
    "# Stampiamo la forma della matrice (num_documenti, num_feature)\n",
    "print(tr_features.shape)\n",
    "\n",
    "# Creiamo un modello di regressione lineare\n",
    "model = LinearRegression()\n",
    "\n",
    "# Alleniamo il modello usando le feature (testo) per predire i punteggi\n",
    "model.fit(tr_features, tr_labels)\n",
    "\n",
    "# Usiamo il modello addestrato per predire i punteggi sugli stessi dati di training\n",
    "train_pred = model.predict(tr_features)\n",
    "\n",
    "# Calcoliamo l'errore quadratico medio (MSE) tra valori reali e predetti\n",
    "print(mse(tr_labels, train_pred))\n",
    "\n",
    "# Stampiamo i punteggi reali (etichette originali)\n",
    "print(tr_labels)\n",
    "\n",
    "# Stampiamo i punteggi predetti dal modello\n",
    "print(train_pred)\n"
   ]
  },
  {
   "cell_type": "code",
   "execution_count": 22,
   "metadata": {},
   "outputs": [
    {
     "name": "stdout",
     "output_type": "stream",
     "text": [
      "[312738 247679  66614 ... 275330  15138 333957]\n",
      "[312738 247679  66614 ... 275330  15138 333957]\n",
      "  (0, 4)\t1\n",
      "  (0, 26)\t1\n",
      "  (0, 29)\t1\n",
      "  (0, 93)\t1\n",
      "  (0, 98)\t1\n",
      "  (0, 119)\t2\n",
      "  (0, 141)\t1\n",
      "  (0, 152)\t1\n",
      "  (0, 162)\t1\n",
      "  (0, 170)\t1\n",
      "  (0, 171)\t1\n",
      "  (0, 177)\t1\n",
      "  (0, 183)\t1\n",
      "  (1, 3)\t1\n",
      "  (1, 60)\t1\n",
      "  (1, 61)\t1\n",
      "  (1, 63)\t1\n",
      "  (1, 99)\t1\n",
      "  (1, 107)\t1\n",
      "  (1, 118)\t1\n",
      "  (1, 179)\t2\n",
      "  (1, 194)\t1\n",
      "  (2, 93)\t1\n",
      "  (2, 110)\t1\n",
      "  (2, 167)\t1\n",
      "  :\t:\n",
      "  (422202, 47)\t1\n",
      "  (422202, 48)\t1\n",
      "  (422202, 63)\t1\n",
      "  (422202, 93)\t1\n",
      "  (422202, 148)\t1\n",
      "  (422203, 91)\t1\n",
      "  (422204, 19)\t1\n",
      "  (422204, 24)\t1\n",
      "  (422204, 31)\t1\n",
      "  (422204, 35)\t1\n",
      "  (422204, 36)\t1\n",
      "  (422204, 39)\t1\n",
      "  (422204, 40)\t2\n",
      "  (422204, 99)\t1\n",
      "  (422204, 110)\t1\n",
      "  (422204, 112)\t1\n",
      "  (422204, 123)\t2\n",
      "  (422204, 147)\t1\n",
      "  (422204, 159)\t1\n",
      "  (422204, 162)\t1\n",
      "  (422204, 166)\t1\n",
      "  (422204, 171)\t1\n",
      "  (422204, 176)\t1\n",
      "  (422204, 180)\t1\n",
      "  (422204, 188)\t1\n",
      "[  2   2   1 ...   2   3 124]\n"
     ]
    }
   ],
   "source": [
    "# Documento corrisponde a ogni riga della matrice\n",
    "print(docs)\n",
    "print(subsample)\n",
    "print(tr_features) # (0, 36)    2 ➡ Documento 0 contiene 2 occorrenze della parola numero 36 del vocabolario\n",
    "print(tr_labels) # array con i punteggi reali (target) per ogni documento."
   ]
  },
  {
   "cell_type": "code",
   "execution_count": 23,
   "metadata": {},
   "outputs": [
    {
     "name": "stdout",
     "output_type": "stream",
     "text": [
      "(422206, 195)\n",
      "27349.35425730103\n"
     ]
    }
   ],
   "source": [
    "from sklearn.linear_model import LinearRegression, Lasso\n",
    "from sklearn.metrics import mean_squared_error as mse\n",
    "\n",
    "docs = np.arange(features.shape[0])\n",
    "np.random.shuffle(docs)\n",
    "subsample = docs\n",
    "tr_features = features[subsample, :]\n",
    "# tr_features = np.asarray(features[subsample, :])\n",
    "# tr_features = np.asarray(tr_features.sum(axis=1)) # sommando lungo l’asse delle parole, ottieni UN SOLO NUMERO per documento, cioè la somma totale di parole (o n-grammi) in quel documento.\n",
    "'''\n",
    "Doc0 → 57 parole totali  \n",
    "Doc1 → 123 parole totali  \n",
    "Doc2 → 14 parole totali  \n",
    "...\n",
    "'''\n",
    "tr_labels = labels[subsample]\n",
    "print(tr_features.shape)\n",
    "\n",
    "model = LinearRegression()\n",
    "model.fit(tr_features, tr_labels)\n",
    "train_pred = model.predict(tr_features)\n",
    "print(mse(tr_labels, train_pred))"
   ]
  },
  {
   "cell_type": "code",
   "execution_count": 24,
   "metadata": {},
   "outputs": [
    {
     "data": {
      "text/plain": [
       "numpy.ndarray"
      ]
     },
     "execution_count": 24,
     "metadata": {},
     "output_type": "execute_result"
    }
   ],
   "source": [
    "type(tr_features)\n",
    "type(tr_labels)"
   ]
  },
  {
   "cell_type": "code",
   "execution_count": 25,
   "metadata": {},
   "outputs": [
    {
     "data": {
      "text/plain": [
       "165.37640175460655"
      ]
     },
     "execution_count": 25,
     "metadata": {},
     "output_type": "execute_result"
    }
   ],
   "source": [
    "np.sqrt(mse(tr_labels, train_pred)) # calcola la radice quadrata dell'errore quadratico medio (RMSE)\n",
    "# il modello in media sbaglia di circa 165 punti, che è enorme se i valori stanno tra 0 e 100 → significa che non sta imparando bene."
   ]
  },
  {
   "cell_type": "code",
   "execution_count": 26,
   "metadata": {},
   "outputs": [
    {
     "data": {
      "text/html": [
       "<div>\n",
       "<style scoped>\n",
       "    .dataframe tbody tr th:only-of-type {\n",
       "        vertical-align: middle;\n",
       "    }\n",
       "\n",
       "    .dataframe tbody tr th {\n",
       "        vertical-align: top;\n",
       "    }\n",
       "\n",
       "    .dataframe thead th {\n",
       "        text-align: right;\n",
       "    }\n",
       "</style>\n",
       "<table border=\"1\" class=\"dataframe\">\n",
       "  <thead>\n",
       "    <tr style=\"text-align: right;\">\n",
       "      <th></th>\n",
       "      <th>gender</th>\n",
       "      <th>body</th>\n",
       "      <th>author</th>\n",
       "      <th>author_flair_text</th>\n",
       "      <th>created_utc</th>\n",
       "      <th>link_id</th>\n",
       "      <th>score</th>\n",
       "      <th>controversiality</th>\n",
       "      <th>gilded</th>\n",
       "      <th>id</th>\n",
       "      <th>subreddit</th>\n",
       "      <th>author_flair_css_class</th>\n",
       "      <th>parent_id</th>\n",
       "      <th>reply_text</th>\n",
       "      <th>sub_id</th>\n",
       "    </tr>\n",
       "  </thead>\n",
       "  <tbody>\n",
       "    <tr>\n",
       "      <th>0</th>\n",
       "      <td>female</td>\n",
       "      <td>if this isn’t accurate then idk what is</td>\n",
       "      <td>be-concerned</td>\n",
       "      <td>15F</td>\n",
       "      <td>1542407736</td>\n",
       "      <td>t3_9xpaoc</td>\n",
       "      <td>60</td>\n",
       "      <td>0</td>\n",
       "      <td>0</td>\n",
       "      <td>e9ufsur</td>\n",
       "      <td>infj</td>\n",
       "      <td>sun</td>\n",
       "      <td>e9ufsur</td>\n",
       "      <td>Yeah, this is definitely me. Then again, I cou...</td>\n",
       "      <td>12</td>\n",
       "    </tr>\n",
       "    <tr>\n",
       "      <th>1</th>\n",
       "      <td>female</td>\n",
       "      <td>i’m in highschool right now. two years ago, my...</td>\n",
       "      <td>be-concerned</td>\n",
       "      <td>15F</td>\n",
       "      <td>1545673571</td>\n",
       "      <td>t3_a940fq</td>\n",
       "      <td>5</td>\n",
       "      <td>0</td>\n",
       "      <td>0</td>\n",
       "      <td>ecgumma</td>\n",
       "      <td>infj</td>\n",
       "      <td>sun</td>\n",
       "      <td>ecgumma</td>\n",
       "      <td>Identify a common interest you have and maybe ...</td>\n",
       "      <td>12</td>\n",
       "    </tr>\n",
       "  </tbody>\n",
       "</table>\n",
       "</div>"
      ],
      "text/plain": [
       "   gender                                               body        author   \n",
       "0  female            if this isn’t accurate then idk what is  be-concerned  \\\n",
       "1  female  i’m in highschool right now. two years ago, my...  be-concerned   \n",
       "\n",
       "  author_flair_text  created_utc    link_id  score  controversiality  gilded   \n",
       "0               15F   1542407736  t3_9xpaoc     60                 0       0  \\\n",
       "1               15F   1545673571  t3_a940fq      5                 0       0   \n",
       "\n",
       "        id subreddit author_flair_css_class parent_id   \n",
       "0  e9ufsur      infj                    sun   e9ufsur  \\\n",
       "1  ecgumma      infj                    sun   ecgumma   \n",
       "\n",
       "                                          reply_text  sub_id  \n",
       "0  Yeah, this is definitely me. Then again, I cou...      12  \n",
       "1  Identify a common interest you have and maybe ...      12  "
      ]
     },
     "execution_count": 26,
     "metadata": {},
     "output_type": "execute_result"
    }
   ],
   "source": [
    "reddit_df.head(2)"
   ]
  },
  {
   "cell_type": "code",
   "execution_count": 27,
   "metadata": {},
   "outputs": [],
   "source": [
    "# Un flair è un piccolo testo (o un’icona) associato all’autore di un post/commento.\n",
    "'''\n",
    "Serve come etichetta visiva, per esempio:\n",
    "Età + Genere → 25M, 30/F, F/28\n",
    "Ruolo → Moderator\n",
    "Categoria → Expert, Beginner\n",
    "Ogni subreddit può definire i propri flair liberi (inseriti dall’utente) o standardizzati (scelti da un menu).\n",
    "\n",
    "Nei dati di Reddit, li trovi in due colonne:\n",
    "author_flair_text → testo libero del flair (es. \"28M\", \"F/29\", \"Mod\")\n",
    "author_flair_css_class → classe CSS usata nel subreddit per stilizzare il flair (es. \"female\", \"sun\", \"blue\")\n",
    "'''\n",
    "reddit_df['op_gender_visible'] = True\n",
    "reddit_df['op_gender'] = ''\n",
    "reddit_df.loc[reddit_df.author_flair_css_class.isin(['female']), 'op_gender'] = 'F'\n",
    "reddit_df.loc[reddit_df.author_flair_css_class.isin(['male']), 'op_gender'] = 'M'\n",
    "\n",
    "'''\n",
    "Spiegazione della regex \\d F|\\dF|\\/F\n",
    "\n",
    "\\d → matcha una cifra (es. 2, 5, 9)\n",
    "\\d F → trova pattern tipo \"28 F\"\n",
    "\\dF → trova pattern tipo \"28F\" (senza spazio)\n",
    "\\/F → trova /F come in \"M/29\"\n",
    "'''\n",
    "notmale = ~reddit_df.author_flair_text.str.contains('\\d M|\\dM|\\/M', regex=True, na=False)\n",
    "female = reddit_df.author_flair_text.str.contains('\\d F|\\dF|\\/F', regex=True, na=False)\n",
    "notfemale = ~reddit_df.author_flair_text.str.contains('\\d F|\\dF|\\/F', regex=True, na=False)\n",
    "male = reddit_df.author_flair_text.str.contains('\\d M|\\dM|\\/M', regex=True, na=False)\n",
    "notnull = reddit_df.author_flair_text.notnull()\n",
    "\n",
    "reddit_df.loc[notnull & female & notmale, 'op_gender'] = 'F'\n",
    "reddit_df.loc[notnull & male & notfemale, 'op_gender'] = 'M'\n",
    "# se il flair non è né F né M, lo lasciamo vuoto\n",
    "reddit_df = reddit_df[reddit_df.op_gender != '']"
   ]
  },
  {
   "cell_type": "code",
   "execution_count": 28,
   "metadata": {},
   "outputs": [
    {
     "data": {
      "text/html": [
       "<div>\n",
       "<style scoped>\n",
       "    .dataframe tbody tr th:only-of-type {\n",
       "        vertical-align: middle;\n",
       "    }\n",
       "\n",
       "    .dataframe tbody tr th {\n",
       "        vertical-align: top;\n",
       "    }\n",
       "\n",
       "    .dataframe thead th {\n",
       "        text-align: right;\n",
       "    }\n",
       "</style>\n",
       "<table border=\"1\" class=\"dataframe\">\n",
       "  <thead>\n",
       "    <tr style=\"text-align: right;\">\n",
       "      <th></th>\n",
       "      <th>gender</th>\n",
       "      <th>body</th>\n",
       "      <th>author</th>\n",
       "      <th>author_flair_text</th>\n",
       "      <th>created_utc</th>\n",
       "      <th>link_id</th>\n",
       "      <th>score</th>\n",
       "      <th>controversiality</th>\n",
       "      <th>gilded</th>\n",
       "      <th>id</th>\n",
       "      <th>subreddit</th>\n",
       "      <th>author_flair_css_class</th>\n",
       "      <th>parent_id</th>\n",
       "      <th>reply_text</th>\n",
       "      <th>sub_id</th>\n",
       "      <th>op_gender_visible</th>\n",
       "      <th>op_gender</th>\n",
       "    </tr>\n",
       "  </thead>\n",
       "  <tbody>\n",
       "    <tr>\n",
       "      <th>0</th>\n",
       "      <td>female</td>\n",
       "      <td>if this isn’t accurate then idk what is</td>\n",
       "      <td>be-concerned</td>\n",
       "      <td>15F</td>\n",
       "      <td>1542407736</td>\n",
       "      <td>t3_9xpaoc</td>\n",
       "      <td>60</td>\n",
       "      <td>0</td>\n",
       "      <td>0</td>\n",
       "      <td>e9ufsur</td>\n",
       "      <td>infj</td>\n",
       "      <td>sun</td>\n",
       "      <td>e9ufsur</td>\n",
       "      <td>Yeah, this is definitely me. Then again, I cou...</td>\n",
       "      <td>12</td>\n",
       "      <td>True</td>\n",
       "      <td>F</td>\n",
       "    </tr>\n",
       "    <tr>\n",
       "      <th>1</th>\n",
       "      <td>female</td>\n",
       "      <td>i’m in highschool right now. two years ago, my...</td>\n",
       "      <td>be-concerned</td>\n",
       "      <td>15F</td>\n",
       "      <td>1545673571</td>\n",
       "      <td>t3_a940fq</td>\n",
       "      <td>5</td>\n",
       "      <td>0</td>\n",
       "      <td>0</td>\n",
       "      <td>ecgumma</td>\n",
       "      <td>infj</td>\n",
       "      <td>sun</td>\n",
       "      <td>ecgumma</td>\n",
       "      <td>Identify a common interest you have and maybe ...</td>\n",
       "      <td>12</td>\n",
       "      <td>True</td>\n",
       "      <td>F</td>\n",
       "    </tr>\n",
       "  </tbody>\n",
       "</table>\n",
       "</div>"
      ],
      "text/plain": [
       "   gender                                               body        author   \n",
       "0  female            if this isn’t accurate then idk what is  be-concerned  \\\n",
       "1  female  i’m in highschool right now. two years ago, my...  be-concerned   \n",
       "\n",
       "  author_flair_text  created_utc    link_id  score  controversiality  gilded   \n",
       "0               15F   1542407736  t3_9xpaoc     60                 0       0  \\\n",
       "1               15F   1545673571  t3_a940fq      5                 0       0   \n",
       "\n",
       "        id subreddit author_flair_css_class parent_id   \n",
       "0  e9ufsur      infj                    sun   e9ufsur  \\\n",
       "1  ecgumma      infj                    sun   ecgumma   \n",
       "\n",
       "                                          reply_text  sub_id   \n",
       "0  Yeah, this is definitely me. Then again, I cou...      12  \\\n",
       "1  Identify a common interest you have and maybe ...      12   \n",
       "\n",
       "   op_gender_visible op_gender  \n",
       "0               True         F  \n",
       "1               True         F  "
      ]
     },
     "execution_count": 28,
     "metadata": {},
     "output_type": "execute_result"
    }
   ],
   "source": [
    "reddit_df.head(2)"
   ]
  },
  {
   "cell_type": "code",
   "execution_count": 29,
   "metadata": {},
   "outputs": [
    {
     "data": {
      "text/plain": [
       "Index(['gender', 'body', 'author', 'author_flair_text', 'created_utc',\n",
       "       'link_id', 'score', 'controversiality', 'gilded', 'id', 'subreddit',\n",
       "       'author_flair_css_class', 'parent_id', 'reply_text', 'sub_id',\n",
       "       'op_gender_visible', 'op_gender'],\n",
       "      dtype='object')"
      ]
     },
     "execution_count": 29,
     "metadata": {},
     "output_type": "execute_result"
    }
   ],
   "source": [
    "reddit_df.columns"
   ]
  }
 ],
 "metadata": {
  "kernelspec": {
   "display_name": "3.11.12",
   "language": "python",
   "name": "python3"
  },
  "language_info": {
   "codemirror_mode": {
    "name": "ipython",
    "version": 3
   },
   "file_extension": ".py",
   "mimetype": "text/x-python",
   "name": "python",
   "nbconvert_exporter": "python",
   "pygments_lexer": "ipython3",
   "version": "3.11.12"
  }
 },
 "nbformat": 4,
 "nbformat_minor": 2
}
